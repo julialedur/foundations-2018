{
 "cells": [
  {
   "cell_type": "markdown",
   "metadata": {},
   "source": [
    "# Homework 10: Cleaning data with Regular Expressions\n",
    "\n",
    "Time to use regular expressions!\n",
    "\n",
    "# Hints and notes\n",
    "\n",
    "### Opening files in subdirectories\n",
    "\n",
    "Notice that this notebook might be **homework/**, but!!! the csvs and text files might be in **homework/scraped/** or **/homework/scraped/minutes_pdfs** or **/homework/pdfs/**. To open a file in a subdirectory, instead of having the filename be `\"file.csv\"` you'll just use `\"some/subfolder/file.csv\"`\n",
    "\n",
    "### Opening text files\n",
    "\n",
    "This will open up a file, read it in and show you the first 500 characters.\n",
    "\n",
    "```python\n",
    "contents = open(\"your-filename.txt\").read()\n",
    "contents[0:500]\n",
    "```\n",
    "\n",
    "> You might need `open(\"your-filename.txt\", encoding=\"utf8\").read()`\n",
    "\n",
    "### Using regex\n",
    "\n",
    "For some dumb reason you need to put `r` in front of the string you use when you're talking about regex. Just plain `\"(\\d\\d\\d)\"` will usually work, but *sometimes* it won't and you'll need `r\"(\\d\\d\\d)`. It's best to just use the `r` all of the time, if you can remember!\n",
    "\n",
    "### Using `.str.extract`\n",
    "\n",
    "When you use `.str.extract`, you're always going to **capture one thing** and save it to a new column. You need to wrap the things you're interested in with parenthesis `(` `)`.\n",
    "\n",
    "```python\n",
    "df['phone_number'] = df['old_column'].str.extract(r\"My phone number is (\\d\\d\\d-\\d\\d\\d-\\d\\d\\d\\d)\")\n",
    "```\n",
    "\n",
    "### Setting pandas options\n",
    "\n",
    "Pandas has a lot of options, like how many columns or rows it will show you, or how many characters it will show in a column before it stops showing you anything. Here are a few useful ones:\n",
    "\n",
    "* `display.max_cols`: Number of columns to show at once\n",
    "* `display.max_rows`: Number of rows to show at once\n",
    "* `display.max_colwidth`: Maximum number of characters displayed from a string\n",
    "\n",
    "You can set them using `pd.set_option(\"display.max_rows\", 1000)`, for example, to show 1000 rows at a time. You can find a lot more at https://pandas.pydata.org/pandas-docs/stable/generated/pandas.set_option.html\n",
    "\n",
    "### Regular expressions reference\n",
    "\n",
    "I personally think http://www.regular-expressions.info/ is a wonderful wonderful reference (and tutorial), even if it's ugly! But here's a quick reference for you:\n",
    "\n",
    "* `\\d` is a digit\n",
    "* `\\d*` is zero or more digits \n",
    "* `\\d+` is one or more digits\n",
    "* `.` matches anything for ONE character\n",
    "* `.*` is \"give me anything forever\"\n",
    "* `\\s` is whitespace, a.k.a. spaces and tabs\n",
    "* `\\w` is a word character, which includes capital and lowercase letters, numbers and hyphens.\n",
    "* You can put `*` after anything, so `\\w*` would mean \"as many word characters as you can find\"\n",
    "* `\\b` is a word boundary (you'll need the `r\"\"` thing for this one)\n",
    "* `( )` is a \"capture group\" for saving something\n",
    "* `\\1` is used when doing find/replace to say \"put the first captured group here\" (note, it's a dollar sign instead of a backslash in some editors)\n",
    "* `[ABCDE]` is a character class, which means \"match one of these, I don't care which\"\n",
    "* dollar sign means \"end of the line\"\n",
    "* caret ^ means \"beginning of the line\"\n",
    "* `\\.` means \"no really seriously I mean a period not just anything\"\n",
    "* You can use `\\` with anything else that would normally be a special character, too, not just periods. `(` or `[` or whatever.\n",
    "\n",
    "### Cleaning up extracted columns\n",
    "\n",
    "Sometimes you get `\\n` (newlines) or spaces or `\\t` (tabs) or stuff at the beginning or the end of your column. `.str.strip()` will usually take care of that, just attach it after your `.str.extract()`\n",
    "\n",
    "After you extract something, it's still a string even though you look at it and know it's a number. Use `.astype(int)` to turn it into an integer (no decimal) or `.astype(float)` to turn it into a float (yes decimal)\n",
    "\n",
    "### Writing regular expressions in general\n",
    "\n",
    "Even if I'm using regex in pandas or Python, I like to test them in my text editor with \"Find.\" The highlighting really helps me see if I'm matching things! I also like to think \"what stays the same?\" when designing patterns, write those parts first, then fill in the blanks with what I want to capture."
   ]
  },
  {
   "cell_type": "markdown",
   "metadata": {},
   "source": [
    "## Importing\n",
    "\n",
    "There might be more, I just wanted to put this up here for the `pd.set_option` part. It allows you to see a lot of content in a single column of pandas, which will be important for some parts below."
   ]
  },
  {
   "cell_type": "code",
   "execution_count": 1,
   "metadata": {},
   "outputs": [],
   "source": [
    "import re\n",
    "import pandas as pd\n",
    "pd.set_option('display.max_colwidth', 500)"
   ]
  },
  {
   "cell_type": "markdown",
   "metadata": {},
   "source": [
    "# Part 1: Using `.str.extract` to pull data from columns in pandas\n",
    "\n",
    "## 1.1 H&M\n",
    "\n",
    "Open up `hm.csv` from the `scraped` directory. I want **four new columns**:\n",
    "\n",
    "1. `price_original`, the original price, one of the new price\n",
    "2. `price_discounted`, the discounted price\n",
    "3. `pct_discount`, the percent discount\n",
    "4. `article_id`, the article id (from the url)\n",
    "\n",
    "Save as **hm_cleaned.csv**.\n",
    "\n",
    "**Note:** When you look at it, it... won't look right. I don't know why, pandas is weird. Look at the `price` column by itself using `df['price']` before you write your regex.\n",
    "\n",
    "**Tip:** Remember that `$` is a special regex symbol! You might need to escape it.\n",
    "\n",
    "**Tip:** When doing `.str.extract`, the whole match doesn't get captured, only what you put `()` around! Think about anchoring to different points of the string, or things in the string.\n",
    "\n",
    "**Tip:** Not all prices have cents!\n",
    "\n",
    "**Tip:** Your first instinct about how to compute the percent discount is probably wrong"
   ]
  },
  {
   "cell_type": "code",
   "execution_count": 43,
   "metadata": {},
   "outputs": [
    {
     "data": {
      "text/plain": [
       "0       $59.99 $129\n",
       "1      $6.99 $17.99\n",
       "2      $7.99 $17.99\n",
       "3      $6.99 $12.99\n",
       "4     $17.99 $24.99\n",
       "5       $3.99 $9.99\n",
       "6      $7.99 $17.99\n",
       "7      $7.99 $17.99\n",
       "8      $9.99 $17.99\n",
       "9     $27.99 $34.99\n",
       "10      $2.99 $5.99\n",
       "11      $2.99 $5.99\n",
       "12     $9.99 $12.99\n",
       "13    $39.99 $49.99\n",
       "14    $39.99 $49.99\n",
       "15     $7.99 $17.99\n",
       "16    $19.99 $29.99\n",
       "17      $2.99 $5.99\n",
       "18     $7.99 $17.99\n",
       "19    $14.99 $24.99\n",
       "20     $9.99 $24.99\n",
       "21     $7.99 $12.99\n",
       "22     $7.99 $17.99\n",
       "23      $4.99 $9.99\n",
       "24     $9.99 $12.99\n",
       "25     $7.99 $17.99\n",
       "26      $3.99 $6.99\n",
       "27     $7.99 $17.99\n",
       "28      $2.99 $6.99\n",
       "29     $9.99 $12.99\n",
       "30    $14.99 $34.99\n",
       "31     $7.99 $17.99\n",
       "32    $24.99 $49.99\n",
       "33    $29.99 $79.99\n",
       "34     $4.99 $12.99\n",
       "35    $19.99 $24.99\n",
       "36      $2.99 $5.99\n",
       "37    $14.99 $34.99\n",
       "38     $6.99 $17.99\n",
       "39     $6.99 $17.99\n",
       "40     $6.99 $17.99\n",
       "41         $99 $199\n",
       "42       $54.99 $99\n",
       "43     $6.99 $17.99\n",
       "44     $4.99 $12.99\n",
       "45     $7.99 $17.99\n",
       "46      $3.99 $9.99\n",
       "47     $6.99 $17.99\n",
       "48     $4.99 $12.99\n",
       "49      $2.99 $5.99\n",
       "50      $4.99 $9.99\n",
       "51     $6.99 $12.99\n",
       "52      $2.99 $5.99\n",
       "53    $34.99 $79.99\n",
       "54     $7.99 $17.99\n",
       "55    $34.99 $79.99\n",
       "56      $2.99 $5.99\n",
       "57    $14.99 $24.99\n",
       "58     $5.99 $12.99\n",
       "59    $12.99 $17.99\n",
       "Name: price, dtype: object"
      ]
     },
     "execution_count": 43,
     "metadata": {},
     "output_type": "execute_result"
    }
   ],
   "source": [
    "df = pd.read_csv(\"hm.csv\")\n",
    "df.price"
   ]
  },
  {
   "cell_type": "code",
   "execution_count": 72,
   "metadata": {},
   "outputs": [
    {
     "data": {
      "text/plain": [
       "0    59.99\n",
       "1     6.99\n",
       "2     7.99\n",
       "3     6.99\n",
       "4    17.99\n",
       "Name: price_discounted, dtype: object"
      ]
     },
     "execution_count": 72,
     "metadata": {},
     "output_type": "execute_result"
    }
   ],
   "source": [
    "df['price_discounted'] = df['price'].str.extract(r\"\\$(\\d+.\\d\\d) \")\n",
    "df['price_discounted'].head()"
   ]
  },
  {
   "cell_type": "code",
   "execution_count": 52,
   "metadata": {},
   "outputs": [
    {
     "data": {
      "text/plain": [
       "0      129\n",
       "1    17.99\n",
       "2    17.99\n",
       "3    12.99\n",
       "4    24.99\n",
       "Name: price_original, dtype: object"
      ]
     },
     "execution_count": 52,
     "metadata": {},
     "output_type": "execute_result"
    }
   ],
   "source": [
    "df['price_original'] = df.price.str.extract(r\" \\$(\\d*\\d*.\\d\\d)\")\n",
    "df['price_original'].head()"
   ]
  },
  {
   "cell_type": "code",
   "execution_count": 55,
   "metadata": {},
   "outputs": [
    {
     "data": {
      "text/plain": [
       "0    13472-N\n",
       "1    35079-D\n",
       "2    72462-A\n",
       "3    58926-C\n",
       "4    74242-A\n",
       "Name: article_id, dtype: object"
      ]
     },
     "execution_count": 55,
     "metadata": {},
     "output_type": "execute_result"
    }
   ],
   "source": [
    "df['article_id'] = df.url.str.extract(r\"=(.*)$\")\n",
    "df['article_id'].head()"
   ]
  },
  {
   "cell_type": "code",
   "execution_count": 88,
   "metadata": {},
   "outputs": [
    {
     "data": {
      "text/plain": [
       "0    53.50\n",
       "1    61.15\n",
       "2    55.59\n",
       "3    46.19\n",
       "4    28.01\n",
       "Name: pct_discount, dtype: float64"
      ]
     },
     "execution_count": 88,
     "metadata": {},
     "output_type": "execute_result"
    }
   ],
   "source": [
    "df['price_discounted'] = df['price_discounted'].astype(float)\n",
    "df['price_original'] = df['price_original'].astype(float)\n",
    "df.dtypes\n",
    "\n",
    "df['pct_discount'] = round((df['price_original'] - df['price_discounted']) / df['price_original'] * 100, 2)\n",
    "df['pct_discount'].head()"
   ]
  },
  {
   "cell_type": "code",
   "execution_count": 85,
   "metadata": {},
   "outputs": [
    {
     "data": {
      "text/html": [
       "<div>\n",
       "<style scoped>\n",
       "    .dataframe tbody tr th:only-of-type {\n",
       "        vertical-align: middle;\n",
       "    }\n",
       "\n",
       "    .dataframe tbody tr th {\n",
       "        vertical-align: top;\n",
       "    }\n",
       "\n",
       "    .dataframe thead th {\n",
       "        text-align: right;\n",
       "    }\n",
       "</style>\n",
       "<table border=\"1\" class=\"dataframe\">\n",
       "  <thead>\n",
       "    <tr style=\"text-align: right;\">\n",
       "      <th></th>\n",
       "      <th>name</th>\n",
       "      <th>price</th>\n",
       "      <th>url</th>\n",
       "      <th>price_discounted</th>\n",
       "      <th>price_original</th>\n",
       "      <th>article_id</th>\n",
       "      <th>pct_discount</th>\n",
       "    </tr>\n",
       "  </thead>\n",
       "  <tbody>\n",
       "    <tr>\n",
       "      <th>0</th>\n",
       "      <td>Washed Linen Duvet Cover Set</td>\n",
       "      <td>$59.99 $129</td>\n",
       "      <td>http://www.hm.com/us/product/13472?article=13472-N</td>\n",
       "      <td>59.99</td>\n",
       "      <td>129.00</td>\n",
       "      <td>13472-N</td>\n",
       "      <td>53.50</td>\n",
       "    </tr>\n",
       "    <tr>\n",
       "      <th>1</th>\n",
       "      <td>Candle in Glass Jar</td>\n",
       "      <td>$6.99 $17.99</td>\n",
       "      <td>http://www.hm.com/us/product/35079?article=35079-D</td>\n",
       "      <td>6.99</td>\n",
       "      <td>17.99</td>\n",
       "      <td>35079-D</td>\n",
       "      <td>61.15</td>\n",
       "    </tr>\n",
       "    <tr>\n",
       "      <th>2</th>\n",
       "      <td>Glittery Cushion Cover</td>\n",
       "      <td>$7.99 $17.99</td>\n",
       "      <td>http://www.hm.com/us/product/72462?article=72462-A</td>\n",
       "      <td>7.99</td>\n",
       "      <td>17.99</td>\n",
       "      <td>72462-A</td>\n",
       "      <td>55.59</td>\n",
       "    </tr>\n",
       "    <tr>\n",
       "      <th>3</th>\n",
       "      <td>Textured-weave Cushion Cover</td>\n",
       "      <td>$6.99 $12.99</td>\n",
       "      <td>http://www.hm.com/us/product/58926?article=58926-C</td>\n",
       "      <td>6.99</td>\n",
       "      <td>12.99</td>\n",
       "      <td>58926-C</td>\n",
       "      <td>46.19</td>\n",
       "    </tr>\n",
       "    <tr>\n",
       "      <th>4</th>\n",
       "      <td>Stoneware Bowl</td>\n",
       "      <td>$17.99 $24.99</td>\n",
       "      <td>http://www.hm.com/us/product/74242?article=74242-A</td>\n",
       "      <td>17.99</td>\n",
       "      <td>24.99</td>\n",
       "      <td>74242-A</td>\n",
       "      <td>28.01</td>\n",
       "    </tr>\n",
       "  </tbody>\n",
       "</table>\n",
       "</div>"
      ],
      "text/plain": [
       "                           name          price  \\\n",
       "0  Washed Linen Duvet Cover Set    $59.99 $129   \n",
       "1           Candle in Glass Jar   $6.99 $17.99   \n",
       "2        Glittery Cushion Cover   $7.99 $17.99   \n",
       "3  Textured-weave Cushion Cover   $6.99 $12.99   \n",
       "4                Stoneware Bowl  $17.99 $24.99   \n",
       "\n",
       "                                                  url  price_discounted  \\\n",
       "0  http://www.hm.com/us/product/13472?article=13472-N             59.99   \n",
       "1  http://www.hm.com/us/product/35079?article=35079-D              6.99   \n",
       "2  http://www.hm.com/us/product/72462?article=72462-A              7.99   \n",
       "3  http://www.hm.com/us/product/58926?article=58926-C              6.99   \n",
       "4  http://www.hm.com/us/product/74242?article=74242-A             17.99   \n",
       "\n",
       "   price_original article_id  pct_discount  \n",
       "0          129.00    13472-N         53.50  \n",
       "1           17.99    35079-D         61.15  \n",
       "2           17.99    72462-A         55.59  \n",
       "3           12.99    58926-C         46.19  \n",
       "4           24.99    74242-A         28.01  "
      ]
     },
     "execution_count": 85,
     "metadata": {},
     "output_type": "execute_result"
    }
   ],
   "source": [
    "df.head()"
   ]
  },
  {
   "cell_type": "markdown",
   "metadata": {},
   "source": [
    "## 1.2 Sci-Fi Authors\n",
    "\n",
    "Open up `sci-fi.csv` to clean. Get rid of the `\\n` on the title and and give me six new columns:\n",
    "\n",
    "* `avg_rating`\n",
    "* `rating_count`\n",
    "* `total_score`\n",
    "* `score_votes`\n",
    "* `series` the series the book belongs to\n",
    "* `series_no` the book in the series that it is\n",
    "\n",
    "For series, I'm talking about e.g. `(The Hunger Games, #1)` is `series` \"The Hunter Games\" and `series_no` 1.\n",
    "\n",
    "Save as **sci-fi_cleaned.csv**.\n",
    "\n",
    "**Tip:** You don't need regex to clean the title - there's a special thing that removes whitespace from the beginning/end of strings\n",
    "\n",
    "**Tip:** Remember that `(` and `)` are special characters\n",
    "\n",
    "**BONUS:** When you make the `total_score` column, pay close attention to it. If you notice the problem, fix it.\n",
    "\n",
    "**BONUS:** You don't need these columns to be numbers, but life would be better if they were. "
   ]
  },
  {
   "cell_type": "code",
   "execution_count": null,
   "metadata": {},
   "outputs": [],
   "source": []
  },
  {
   "cell_type": "code",
   "execution_count": null,
   "metadata": {},
   "outputs": [],
   "source": []
  },
  {
   "cell_type": "code",
   "execution_count": null,
   "metadata": {},
   "outputs": [],
   "source": []
  },
  {
   "cell_type": "markdown",
   "metadata": {},
   "source": [
    "## 1.3 Where you're just doing one of my former students' projects\n",
    "\n",
    "Once upon a time my student Stefan did a project that involved some lawyer stuff. Most of the content was in PDFs, though! I converted them to text files and put them into the `pdfs` folder, and gave you code below to open up each of them and save their contents into a dataframe.\n",
    "\n",
    "What a nice dataframe! I want you to add the following columns to it:\n",
    "\n",
    "* `lawyer_app`, the applicant's lawyer (pro se means that they did it themselves, that's fine)\n",
    "* `lawyer_gov`, the government's lawyer\n",
    "* `judge`, the name of the judge\n",
    "* `access`, whether the clearance is granted or denied (although you might miss a few)\n",
    "\n",
    "Save as **court_cleaned.csv**.\n",
    "\n",
    "**Note:** You can look at the original PDFs, they're also included.\n",
    "\n",
    "**Note:** This uses a fun utility called `glob`, which is mostly fun because you use it as `glob.glob`. It's used to find files that match a certain filename pattern.\n",
    "\n",
    "**BONUS:** You'll be happy once you get the judge, but make sure it doesn't have any extra punctuation on it.\n",
    "\n",
    "**BONUS:** You can for some words using `.str.contains(\"blah\")` and save it into new columns. Maybe `has_debt`, `has_bankruptcy`, etc.\n",
    "\n",
    "> It's okay if it isn't perfect. Converting PDF into data rarely is! Usually you get 90% of it done with computers, then send people to enter the other 10% by hand."
   ]
  },
  {
   "cell_type": "code",
   "execution_count": null,
   "metadata": {},
   "outputs": [],
   "source": []
  },
  {
   "cell_type": "code",
   "execution_count": null,
   "metadata": {},
   "outputs": [],
   "source": []
  },
  {
   "cell_type": "markdown",
   "metadata": {
    "collapsed": true
   },
   "source": [
    "Okay, now do the work and **make those new columns!**"
   ]
  },
  {
   "cell_type": "code",
   "execution_count": null,
   "metadata": {},
   "outputs": [],
   "source": []
  },
  {
   "cell_type": "markdown",
   "metadata": {},
   "source": [
    "# Reading books\n",
    "\n",
    "When you're doing text work, you're legally obligated work on Jane Austen's Pride and Prejudice (at least I *think* so). Let's do some naive analysis of it!\n",
    "\n",
    "## Read in Jane Austen's Pride and Prejudice (without moving the file!)\n",
    "\n",
    "It's in the `data/` directory, and named `Austen_Pride.txt`."
   ]
  },
  {
   "cell_type": "code",
   "execution_count": null,
   "metadata": {},
   "outputs": [],
   "source": []
  },
  {
   "cell_type": "markdown",
   "metadata": {},
   "source": [
    "## Look at the first 500 or so characters of it "
   ]
  },
  {
   "cell_type": "code",
   "execution_count": null,
   "metadata": {},
   "outputs": [],
   "source": []
  },
  {
   "cell_type": "markdown",
   "metadata": {},
   "source": [
    "## Use a regular expression to find every \"he\" or \"she\" in the book. There should be about 3000 of them.\n",
    "\n",
    "**Tip:** Do you know about **word boundaries?** `\\b` means \"the beginning of end of a word.\"\n",
    "\n",
    "**Tip:** You might also want to use `re.IGNORECASE`. Maybe you'll need to google it? \n",
    "\n",
    "**Tip:** Do NOT use `re.compile`"
   ]
  },
  {
   "cell_type": "code",
   "execution_count": null,
   "metadata": {},
   "outputs": [],
   "source": []
  },
  {
   "cell_type": "markdown",
   "metadata": {},
   "source": [
    "## Use a regular expression to find those same \"he\" or \"she\"s, but also match *the word after it*\n",
    "\n",
    "The first four should be:\n",
    "\n",
    "* he is\n",
    "* he had\n",
    "* she told\n",
    "* he came"
   ]
  },
  {
   "cell_type": "code",
   "execution_count": null,
   "metadata": {},
   "outputs": [],
   "source": []
  },
  {
   "cell_type": "markdown",
   "metadata": {},
   "source": [
    "## Use capture groups to save the pronoun (he/she) as one match and the word as another\n",
    "\n",
    "The first five should look like\n",
    "\n",
    "```\n",
    "[('he', 'is'),\n",
    " ('he', 'had'),\n",
    " ('she', 'told'),\n",
    " ('he', 'came'),\n",
    " ('he', 'agreed')]```"
   ]
  },
  {
   "cell_type": "code",
   "execution_count": null,
   "metadata": {},
   "outputs": [],
   "source": []
  },
  {
   "cell_type": "markdown",
   "metadata": {},
   "source": [
    "## Save those matches into a dataframe\n",
    "\n",
    "You can give the column names with `columns=['pronoun', 'verb']`"
   ]
  },
  {
   "cell_type": "code",
   "execution_count": null,
   "metadata": {},
   "outputs": [],
   "source": []
  },
  {
   "cell_type": "markdown",
   "metadata": {},
   "source": [
    "## How many times is each pronoun used?"
   ]
  },
  {
   "cell_type": "code",
   "execution_count": null,
   "metadata": {},
   "outputs": [],
   "source": []
  },
  {
   "cell_type": "markdown",
   "metadata": {},
   "source": [
    "## Oh, wait, clean that up.\n",
    "\n",
    "Make it only 'he' and 'she' lowercase.\n",
    "\n",
    "It should be about 1600 'she' and 1300 'he'"
   ]
  },
  {
   "cell_type": "code",
   "execution_count": null,
   "metadata": {},
   "outputs": [],
   "source": []
  },
  {
   "cell_type": "markdown",
   "metadata": {},
   "source": [
    "## What are the top 20 most common verbs?"
   ]
  },
  {
   "cell_type": "code",
   "execution_count": null,
   "metadata": {},
   "outputs": [],
   "source": []
  },
  {
   "cell_type": "markdown",
   "metadata": {},
   "source": [
    "## What are the top 20 most common verbs for 'he', and the top 20 most common for 'she'\n",
    "\n",
    "**Tip:** Don't use groupby, just filter. If you want to know how, though, you can also look at \"value counts for different categories\" on [this page](http://jonathansoma.com/lede/foundations-2017/classes/more-pandas/class-notes/)"
   ]
  },
  {
   "cell_type": "code",
   "execution_count": null,
   "metadata": {},
   "outputs": [],
   "source": []
  },
  {
   "cell_type": "code",
   "execution_count": null,
   "metadata": {},
   "outputs": [],
   "source": []
  },
  {
   "cell_type": "markdown",
   "metadata": {},
   "source": [
    "## Who cries more, men or women? Give me a percentage answer.\n",
    "\n",
    "**Tip:** It's `cried`, because of, you know, how books are written"
   ]
  },
  {
   "cell_type": "code",
   "execution_count": null,
   "metadata": {},
   "outputs": [],
   "source": []
  },
  {
   "cell_type": "code",
   "execution_count": null,
   "metadata": {},
   "outputs": [],
   "source": []
  },
  {
   "cell_type": "markdown",
   "metadata": {},
   "source": [
    "## How much more common is 'he' than 'she' in J.R.R. Tolkein's Fellowship of the Ring? How does that compare to Pride and Prejudice?\n",
    "\n",
    "The book is in the same directory."
   ]
  },
  {
   "cell_type": "code",
   "execution_count": null,
   "metadata": {},
   "outputs": [],
   "source": []
  }
 ],
 "metadata": {
  "kernelspec": {
   "display_name": "Python 3",
   "language": "python",
   "name": "python3"
  },
  "language_info": {
   "codemirror_mode": {
    "name": "ipython",
    "version": 3
   },
   "file_extension": ".py",
   "mimetype": "text/x-python",
   "name": "python",
   "nbconvert_exporter": "python",
   "pygments_lexer": "ipython3",
   "version": "3.6.5"
  }
 },
 "nbformat": 4,
 "nbformat_minor": 2
}
